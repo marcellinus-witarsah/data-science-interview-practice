{
 "cells": [
  {
   "cell_type": "markdown",
   "id": "cfe17716",
   "metadata": {},
   "source": [
    "# Stack"
   ]
  },
  {
   "cell_type": "markdown",
   "id": "7d7931b2",
   "metadata": {},
   "source": [
    "Stack is a linear data structure that stores items in LIFO (Last In, First Out). In stack, a new element is added at one end and an element is removed from that end only. The insert and delete operations are often called push and pop."
   ]
  },
  {
   "attachments": {
    "image.png": {
     "image/png": "[encoded data removed]"
    }
   },
   "cell_type": "markdown",
   "id": "43c032e0",
   "metadata": {},
   "source": [
    "![../images/stack.png](attachment:image.png)"
   ]
  },
  {
   "cell_type": "code",
   "execution_count": null,
   "id": "5f988bd9",
   "metadata": {},
   "outputs": [],
   "source": [
    "class Node:\n",
    "    def __init__(self, val, next_ref=None):\n",
    "        self.val = val\n",
    "        self.next = next_ref\n",
    "\n",
    "class Stack:\n",
    "    def __init__(self):\n",
    "        self.head = None\n",
    "    \n",
    "    def push(self, val):\n",
    "        if self.head is None:\n",
    "            self.head = Node(val)\n",
    "        else:\n",
    "            temp = self.head\n",
    "            self.head = Node(val, temp)\n",
    "    \n",
    "    def search(self, val):\n",
    "        if self.head is not None:\n",
    "            curr = self.head\n",
    "            location = 0\n",
    "            while curr:\n",
    "                if curr.val == val:\n",
    "                    return location\n",
    "                location += 1\n",
    "                curr = curr.next\n",
    "        return -1\n",
    "    \n",
    "    def read(self):\n",
    "        if self.head is None:\n",
    "            print('Stack is empty')\n",
    "        else:\n",
    "            curr = self.head\n",
    "            while curr:\n",
    "                print(curr.val, end=' ')\n",
    "                curr = curr.next\n",
    "    \n",
    "    def pop(self):\n",
    "        if self.head is None:\n",
    "            print('Stack is empty')\n",
    "        else:\n",
    "            curr = self.head\n",
    "            self.head = self.head.next\n",
    "            return curr.val\n",
    "\n",
    "stack = Stack()"
   ]
  },
  {
   "cell_type": "markdown",
   "id": "fbdea7de",
   "metadata": {},
   "source": [
    "## Insert Values at Any Point Into The Structure"
   ]
  },
  {
   "cell_type": "code",
   "execution_count": null,
   "id": "12bc92ab",
   "metadata": {},
   "outputs": [],
   "source": [
    "stack.push(2)\n",
    "stack.push(4)\n",
    "stack.push(10)\n",
    "stack.push(7)\n",
    "stack.push(15)\n",
    "stack.push(12)\n",
    "stack.push(11)\n",
    "stack.push(5)\n",
    "stack.push(8)\n",
    "stack.push(100)"
   ]
  },
  {
   "cell_type": "markdown",
   "id": "a620fea0",
   "metadata": {},
   "source": [
    "## Access and Read Values"
   ]
  },
  {
   "cell_type": "code",
   "execution_count": null,
   "id": "d02665c1",
   "metadata": {},
   "outputs": [],
   "source": [
    "stack.read()"
   ]
  },
  {
   "cell_type": "markdown",
   "id": "e181709c",
   "metadata": {},
   "source": [
    "## Search for Arbitrary Values"
   ]
  },
  {
   "cell_type": "code",
   "execution_count": null,
   "id": "8bde576b",
   "metadata": {},
   "outputs": [],
   "source": [
    "val = 100\n",
    "res = stack.search(val)\n",
    "if res >= 0:\n",
    "    print(f'{val} found at index {res}')\n",
    "elif res < 0:\n",
    "    print(f'{val} not found')"
   ]
  },
  {
   "cell_type": "markdown",
   "id": "af7f99d4",
   "metadata": {},
   "source": [
    "## Delete Values in Structure"
   ]
  },
  {
   "cell_type": "code",
   "execution_count": null,
   "id": "dd481e75",
   "metadata": {},
   "outputs": [],
   "source": [
    "for i in range(2):\n",
    "    print(stack.pop())\n",
    "stack.read()"
   ]
  }
 ],
 "metadata": {
  "kernelspec": {
   "display_name": "sumatera wildfire (pipenv)",
   "language": "python",
   "name": "sumatera-wildfire-classification"
  },
  "language_info": {
   "codemirror_mode": {
    "name": "ipython",
    "version": 3
   },
   "file_extension": ".py",
   "mimetype": "text/x-python",
   "name": "python",
   "nbconvert_exporter": "python",
   "pygments_lexer": "ipython3",
   "version": "3.8.0"
  }
 },
 "nbformat": 4,
 "nbformat_minor": 5
}
