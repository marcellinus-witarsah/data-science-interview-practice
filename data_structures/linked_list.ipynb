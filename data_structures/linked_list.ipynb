{
 "cells": [
  {
   "cell_type": "markdown",
   "id": "1f039838",
   "metadata": {},
   "source": [
    "# Linked List"
   ]
  },
  {
   "cell_type": "markdown",
   "id": "f81fe120",
   "metadata": {},
   "source": [
    "Linked List is a linear data structure that resembles a chain where each data has a reference to the next data. The memory location of the data structure is random or not continuous (not like an array).\n"
   ]
  },
  {
   "attachments": {
    "image.png": {
     "image/png": "[encoded data removed]"
    }
   },
   "cell_type": "markdown",
   "id": "a771cd96",
   "metadata": {},
   "source": [
    "![../images/Linkedlist.png](attachment:image.png)"
   ]
  },
  {
   "cell_type": "markdown",
   "id": "1c3b0eaf",
   "metadata": {},
   "source": [
    "Time complexity\n",
    "1. **Search**: O(n) for worst and average case\n",
    "2. **Insert**: O(1) for worst and average case\n",
    "3. **Deletion**: O(1) for worst and average case\n",
    "\n",
    "Space complesity O(n)\n",
    "\n",
    "*n = amount of input*"
   ]
  },
  {
   "cell_type": "markdown",
   "id": "33e28518",
   "metadata": {},
   "source": [
    "# 1. Single Linked List"
   ]
  },
  {
   "cell_type": "code",
   "execution_count": 25,
   "id": "628ebeb1",
   "metadata": {
    "scrolled": false
   },
   "outputs": [
    {
     "name": "stdout",
     "output_type": "stream",
     "text": [
      "4\n",
      "6\n",
      "2\n",
      "1\n",
      "10\n",
      "3\n"
     ]
    }
   ],
   "source": [
    "# implementation\n",
    "class Node:\n",
    "    def __init__(self, data):\n",
    "        self.data = data\n",
    "        self.next = None\n",
    "\n",
    "class LinkedList:\n",
    "    def __init__(self):\n",
    "        self.head = None\n",
    "    \n",
    "    def print_list(self):\n",
    "        curr = self.head\n",
    "        while curr:\n",
    "            print(curr.data, end = \"\\n\")\n",
    "            curr = curr.next\n",
    "    \n",
    "    def insert_tail(self, value):\n",
    "        # function to insert data from tail\n",
    "        curr = self.head\n",
    "        if curr == None:\n",
    "            self.head = Node(value)\n",
    "        else:\n",
    "            while curr:\n",
    "                if curr.next == None:\n",
    "                    break\n",
    "                curr = curr.next\n",
    "            new_node = Node(value)\n",
    "            curr.next = new_node\n",
    "    \n",
    "    def insert_head(self, value):\n",
    "        # function to insert data from head\n",
    "        curr = self.head\n",
    "        if curr == None:\n",
    "            self.head = Node(value)\n",
    "        else:\n",
    "            new_node = Node(value)\n",
    "            new_node.next = self.head\n",
    "            self.head = new_node\n",
    "    \n",
    "    def insert(self, value, pos=None):\n",
    "        curr = self.head\n",
    "        if curr == None: # check if the data is empty\n",
    "            insert_head(value)\n",
    "        elif pos == None: # check if the position is none which means insert data at the end of list\n",
    "            insert_tail(value)\n",
    "        elif type(pos) is int: # insert from any position\n",
    "            pos = 0 if pos == 0 else pos-1\n",
    "            for i in range(pos):\n",
    "                curr=curr.next\n",
    "            if curr.next == None:\n",
    "                insert_tail(value)\n",
    "            else:\n",
    "                temp = curr.next\n",
    "                curr.next = Node(value)\n",
    "                curr.next.next = temp\n",
    "\n",
    "# code execution\n",
    "llist = LinkedList()\n",
    "llist.insert_tail(1) # 1\n",
    "llist.insert_head(2) # 2 1\n",
    "llist.insert_tail(3) # 2 1 3\n",
    "llist.insert_head(4) # 4 2 1 3\n",
    "llist.insert(6, 1) # 4 6 2 1 3\n",
    "llist.insert(10, 4) # 4 6 2 1 3\n",
    "llist.print_list()"
   ]
  }
 ],
 "metadata": {
  "kernelspec": {
   "display_name": "sumatera wildfire (pipenv)",
   "language": "python",
   "name": "sumatera-wildfire-classification"
  },
  "language_info": {
   "codemirror_mode": {
    "name": "ipython",
    "version": 3
   },
   "file_extension": ".py",
   "mimetype": "text/x-python",
   "name": "python",
   "nbconvert_exporter": "python",
   "pygments_lexer": "ipython3",
   "version": "3.8.0"
  }
 },
 "nbformat": 4,
 "nbformat_minor": 5
}
