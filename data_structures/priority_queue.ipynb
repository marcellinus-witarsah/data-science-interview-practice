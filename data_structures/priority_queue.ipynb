{
 "cells": [
  {
   "cell_type": "markdown",
   "id": "ad3cca4b",
   "metadata": {},
   "source": [
    "# Priority Queue"
   ]
  },
  {
   "cell_type": "markdown",
   "id": "3af8301b",
   "metadata": {},
   "source": [
    "A priority queue is a special **type of queue** in which each element is associated with a priority value. And, elements are served on the basis of their priority. That is, higher priority elements are served first.\n",
    "\n",
    "However, if elements with the same priority occur, they are served according to their order in the queue."
   ]
  },
  {
   "cell_type": "markdown",
   "id": "67ea8ecf",
   "metadata": {},
   "source": [
    "**Assigning Priority Value**\n",
    "\n",
    "Generally, the value of the element itself is considered for assigning the priority. For example,\n",
    "\n",
    "The element with the highest value is considered the highest priority element. However, in other cases, we can assume the element with the lowest value as the highest priority element.\n",
    "\n",
    "We can also set priorities according to our needs."
   ]
  },
  {
   "cell_type": "markdown",
   "id": "039fbae8",
   "metadata": {},
   "source": [
    "**Difference between Priority Queue and Normal Queue**\n",
    "\n",
    "In a queue, the first-in-first-out rule is implemented whereas, in a priority queue, the values are removed on the basis of priority. The element with the highest priority is removed first."
   ]
  },
  {
   "cell_type": "markdown",
   "id": "d4c8785e",
   "metadata": {},
   "source": [
    "## Priority Queue Operations\n",
    "1. Insert: involves inserting the data at the end of the node before heapify it.\n",
    "2. Remove: involves swaping the selected element with the last element, remove the last element and heapify it. \n",
    "3. Peeking: return the root node which is the highest value in **max-heap** and lowest value for **min-heap**"
   ]
  },
  {
   "cell_type": "markdown",
   "id": "39beb77d",
   "metadata": {},
   "source": [
    "## Heapify\n"
   ]
  },
  {
   "cell_type": "markdown",
   "id": "0cf8c9d5",
   "metadata": {},
   "source": [
    "Heapify algorithm:\n",
    "1. Take a look at at each element, starting from the last element\n",
    "2. Identify a parent by cheaking whether it has a child\n",
    "3. Compare left child with the parent, if its bigger swap them. Next, do the same thing with the right child\n",
    "4. Go to the next parent and repeat the process from step 3 until all of the list resembles a heap."
   ]
  },
  {
   "cell_type": "code",
   "execution_count": 25,
   "id": "aac0c5a2",
   "metadata": {},
   "outputs": [],
   "source": [
    "# implementation manual\n",
    "def heapify(arr, size, i):\n",
    "    largest = i\n",
    "    left = 2*i+1\n",
    "    right = 2*i+2\n",
    "    \n",
    "    # check if left child is bigger than parent\n",
    "    if left < size and arr[left] > arr[largest]:\n",
    "        largest = left\n",
    "    # check if right child is bigger than parent\n",
    "    if right < size and arr[right] > arr[largest]:\n",
    "        largest = right\n",
    "    \n",
    "    # check if there is any changes in the largest index\n",
    "    if largest!= i:\n",
    "        # swap the data\n",
    "        arr[i], arr[largest] = arr[largest], arr[i]\n",
    "        # recursion to heapify start from left or right index\n",
    "        heapify(arr, size, largest)\n",
    "\n",
    "        \n",
    "def insert(arr, value):\n",
    "    size = len(arr)\n",
    "    if size == 0:\n",
    "        arr.append(value)\n",
    "    else:\n",
    "        arr.append(value)\n",
    "        for i in range((size//2)-1, -1, -1):\n",
    "            heapify(arr, size, i)\n",
    "\n",
    "            \n",
    "arr = []\n",
    "\n",
    "insert(arr, 3)\n",
    "insert(arr, 4)\n",
    "insert(arr, 9)\n",
    "insert(arr, 5)\n",
    "insert(arr, 2)\n",
    "insert(arr, 10)\n",
    "insert(arr, 0)\n",
    "insert(arr, 11)\n",
    "insert(arr, 15)\n",
    "insert(arr, 20)\n",
    "print(arr)"
   ]
  },
  {
   "cell_type": "code",
   "execution_count": 40,
   "id": "6a123528",
   "metadata": {},
   "outputs": [
    {
     "name": "stdout",
     "output_type": "stream",
     "text": [
      "[0, 2, 3, 5, 4, 10, 9, 11, 15, 20]\n",
      "[0, 1, 3, 5, 2, 10, 9, 11, 15, 20, 4]\n",
      "0\n",
      "1\n",
      "2\n",
      "3\n",
      "4\n",
      "5\n",
      "9\n",
      "10\n",
      "11\n",
      "15\n",
      "20\n",
      "[2, 4, 3, 5, 10, 10, 9, 11, 15, 20]\n"
     ]
    }
   ],
   "source": [
    "# implementation using heapq library\n",
    "# min heap\n",
    "import heapq\n",
    "H = [3, 4, 9, 5, 2, 10, 0, 11, 15, 20]\n",
    "heapq.heapify(H)\n",
    "print(H)\n",
    "\n",
    "# insert to heaparr\n",
    "heapq.heappush(H, 1)\n",
    "print(H)\n",
    "\n",
    "# heappop\n",
    "while len(H):\n",
    "    print(heapq.heappop(H))\n",
    "\n",
    "H = [3, 4, 9, 5, 2, 10, 0, 11, 15, 20]\n",
    "heapq.heapify(H)\n",
    "# # replace element, remove the smallest element and add a new element\n",
    "heapq.heapreplace(H, 10)\n",
    "print(H) # element 0 should've been removed"
   ]
  },
  {
   "cell_type": "code",
   "execution_count": 49,
   "id": "391a2e31",
   "metadata": {},
   "outputs": [
    {
     "name": "stdout",
     "output_type": "stream",
     "text": [
      "[20, 15, 10, 11, 4, 9, 0, 3, 5, 2]\n",
      "[20, 15, 10, 11, 4, 9, 0, 3, 5, 2, 1]\n"
     ]
    }
   ],
   "source": [
    "# max heap\n",
    "import heapq\n",
    "H = [3, 4, 9, 5, 2, 10, 0, 11, 15, 20]\n",
    "heapq._heapify_max(H)\n",
    "print(H)\n",
    "\n",
    "# insert to heaparr\n",
    "heapq.heappush(H, 1)\n",
    "heapq._heapify_max(H)\n",
    "print(H)"
   ]
  }
 ],
 "metadata": {
  "kernelspec": {
   "display_name": "sumatera wildfire (pipenv)",
   "language": "python",
   "name": "sumatera-wildfire-classification"
  },
  "language_info": {
   "codemirror_mode": {
    "name": "ipython",
    "version": 3
   },
   "file_extension": ".py",
   "mimetype": "text/x-python",
   "name": "python",
   "nbconvert_exporter": "python",
   "pygments_lexer": "ipython3",
   "version": "3.8.0"
  }
 },
 "nbformat": 4,
 "nbformat_minor": 5
}
