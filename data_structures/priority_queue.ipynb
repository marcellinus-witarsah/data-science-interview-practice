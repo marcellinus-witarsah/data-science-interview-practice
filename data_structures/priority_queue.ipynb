{
 "cells": [
  {
   "cell_type": "markdown",
   "id": "c42acc9d",
   "metadata": {},
   "source": [
    "# Priority Queue"
   ]
  },
  {
   "cell_type": "markdown",
   "id": "b2fd5e95",
   "metadata": {},
   "source": [
    "A priority queue is a special **type of queue** in which each element is associated with a priority value. And, elements are served on the basis of their priority. That is, higher priority elements are served first.\n",
    "\n",
    "However, if elements with the same priority occur, they are served according to their order in the queue."
   ]
  },
  {
   "cell_type": "markdown",
   "id": "b5363d1d",
   "metadata": {},
   "source": [
    "**Assigning Priority Value**\n",
    "\n",
    "Generally, the value of the element itself is considered for assigning the priority. For example,\n",
    "\n",
    "The element with the highest value is considered the highest priority element. However, in other cases, we can assume the element with the lowest value as the highest priority element.\n",
    "\n",
    "We can also set priorities according to our needs."
   ]
  },
  {
   "cell_type": "markdown",
   "id": "1a35e864",
   "metadata": {},
   "source": [
    "**Difference between Priority Queue and Normal Queue**\n",
    "\n",
    "In a queue, the first-in-first-out rule is implemented whereas, in a priority queue, the values are removed on the basis of priority. The element with the highest priority is removed first."
   ]
  },
  {
   "cell_type": "markdown",
   "id": "784c5fbe",
   "metadata": {},
   "source": [
    "## Priority Queue Operations\n",
    "1. Insert: involves inserting the data at the end of the node before heapify it.\n",
    "2. Remove: involves swaping the selected element with the last element, remove the last element and heapify it. \n",
    "3. Peeking: return the root node which is the highest value in **max-heap** and lowest value for **min-heap**"
   ]
  },
  {
   "cell_type": "markdown",
   "id": "b48f581a",
   "metadata": {},
   "source": [
    "## Heapify\n"
   ]
  },
  {
   "cell_type": "markdown",
   "id": "6c7be1b6",
   "metadata": {},
   "source": [
    "Heapify algorithm:\n",
    "1. Take a look at at each element, starting from the last element\n",
    "2. Identify a parent by cheaking whether it has a child\n",
    "3. Compare left child with the parent, if its bigger swap them. Next, do the same thing with the right child\n",
    "4. Go to the next parent and repeat the process from step 3 until all of the list resembles a heap."
   ]
  },
  {
   "cell_type": "code",
   "execution_count": 25,
   "id": "8bd644f6",
   "metadata": {},
   "outputs": [],
   "source": [
    "# implementation manual\n",
    "def heapify(arr, size, i):\n",
    "    largest = i\n",
    "    left = 2*i+1\n",
    "    right = 2*i+2\n",
    "    \n",
    "    # check if left child is bigger than parent\n",
    "    if left < size and arr[left] > arr[largest]:\n",
    "        largest = left\n",
    "    # check if right child is bigger than parent\n",
    "    if right < size and arr[right] > arr[largest]:\n",
    "        largest = right\n",
    "    \n",
    "    # check if there is any changes in the largest index\n",
    "    if largest!= i:\n",
    "        # swap the data\n",
    "        arr[i], arr[largest] = arr[largest], arr[i]\n",
    "        # recursion to heapify start from left or right index\n",
    "        heapify(arr, size, largest)\n",
    "\n",
    "        \n",
    "def insert(arr, value):\n",
    "    size = len(arr)\n",
    "    if size == 0:\n",
    "        arr.append(value)\n",
    "    else:\n",
    "        arr.append(value)\n",
    "        for i in range((size//2)-1, -1, -1):\n",
    "            heapify(arr, size, i)\n",
    "\n",
    "            \n",
    "arr = []\n",
    "\n",
    "insert(arr, 3)\n",
    "insert(arr, 4)\n",
    "insert(arr, 9)\n",
    "insert(arr, 5)\n",
    "insert(arr, 2)\n",
    "insert(arr, 10)\n",
    "insert(arr, 0)\n",
    "insert(arr, 11)\n",
    "insert(arr, 15)\n",
    "insert(arr, 20)\n",
    "print(arr)"
   ]
  },
  {
   "cell_type": "code",
   "execution_count": 40,
   "id": "98d0d054",
   "metadata": {},
   "outputs": [
    {
     "name": "stdout",
     "output_type": "stream",
     "text": [
      "[0, 2, 3, 5, 4, 10, 9, 11, 15, 20]\n",
      "[0, 1, 3, 5, 2, 10, 9, 11, 15, 20, 4]\n",
      "0\n",
      "1\n",
      "2\n",
      "3\n",
      "4\n",
      "5\n",
      "9\n",
      "10\n",
      "11\n",
      "15\n",
      "20\n",
      "[2, 4, 3, 5, 10, 10, 9, 11, 15, 20]\n"
     ]
    }
   ],
   "source": [
    "# implementation using heapq library\n",
    "# min heap\n",
    "import heapq\n",
    "H = [3, 4, 9, 5, 2, 10, 0, 11, 15, 20]\n",
    "heapq.heapify(H)\n",
    "print(H)\n",
    "\n",
    "# insert to heaparr\n",
    "heapq.heappush(H, 1)\n",
    "print(H)\n",
    "\n",
    "# heappop\n",
    "while len(H):\n",
    "    print(heapq.heappop(H))\n",
    "\n",
    "H = [3, 4, 9, 5, 2, 10, 0, 11, 15, 20]\n",
    "heapq.heapify(H)\n",
    "# # replace element, remove the smallest element and add a new element\n",
    "heapq.heapreplace(H, 10)\n",
    "print(H) # element 0 should've been removed"
   ]
  },
  {
   "cell_type": "code",
   "execution_count": 48,
   "id": "92e7efdb",
   "metadata": {},
   "outputs": [
    {
     "name": "stdout",
     "output_type": "stream",
     "text": [
      "[20, 15, 10, 11, 4, 9, 0, 3, 5, 2]\n",
      "[20, 15, 10, 11, 4, 9, 0, 3, 5, 2, 1]\n"
     ]
    },
    {
     "ename": "AttributeError",
     "evalue": "'int' object has no attribute 'val'",
     "output_type": "error",
     "traceback": [
      "\u001b[1;31m---------------------------------------------------------------------------\u001b[0m",
      "\u001b[1;31mAttributeError\u001b[0m                            Traceback (most recent call last)",
      "Cell \u001b[1;32mIn [48], line 14\u001b[0m\n\u001b[0;32m     12\u001b[0m \u001b[38;5;66;03m# heappop\u001b[39;00m\n\u001b[0;32m     13\u001b[0m \u001b[38;5;28;01mwhile\u001b[39;00m \u001b[38;5;28mlen\u001b[39m(H):\n\u001b[1;32m---> 14\u001b[0m     \u001b[38;5;28mprint\u001b[39m(heapq\u001b[38;5;241m.\u001b[39mheappop(H)\u001b[38;5;241m.\u001b[39mval)\n",
      "\u001b[1;31mAttributeError\u001b[0m: 'int' object has no attribute 'val'"
     ]
    }
   ],
   "source": [
    "# max heap\n",
    "import heapq\n",
    "H = [3, 4, 9, 5, 2, 10, 0, 11, 15, 20]\n",
    "heapq._heapify_max(H)\n",
    "print(H)\n",
    "\n",
    "# insert to heaparr\n",
    "heapq.heappush(H, 1)\n",
    "heapq._heapify_max(H)\n",
    "print(H)\n",
    "\n",
    "# heappop\n",
    "while len(H):\n",
    "    print(heapq.heappop(H).val)"
   ]
  },
  {
   "cell_type": "code",
   "execution_count": null,
   "id": "4f5218ff",
   "metadata": {},
   "outputs": [],
   "source": []
  }
 ],
 "metadata": {
  "kernelspec": {
   "display_name": "sumatera wildfire (pipenv)",
   "language": "python",
   "name": "sumatera-wildfire-classification"
  },
  "language_info": {
   "codemirror_mode": {
    "name": "ipython",
    "version": 3
   },
   "file_extension": ".py",
   "mimetype": "text/x-python",
   "name": "python",
   "nbconvert_exporter": "python",
   "pygments_lexer": "ipython3",
   "version": "3.8.0"
  }
 },
 "nbformat": 4,
 "nbformat_minor": 5
}
