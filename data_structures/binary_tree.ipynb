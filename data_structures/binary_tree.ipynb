{
 "cells": [
  {
   "cell_type": "markdown",
   "id": "a58b5ccc",
   "metadata": {},
   "source": [
    "# Binary Tree\n"
   ]
  },
  {
   "cell_type": "markdown",
   "id": "b253696c",
   "metadata": {},
   "source": [
    "## Introduction\n",
    "Tree Data Structure is very effective than all linear data structure in terms of efficiency and speed at getting data.\n",
    "### 1. Tree Terminologies\n",
    "**Node** = A node is an entity that contains a key or value and pointers to its child nodes.The last nodes of each path are called **leaf nodes or external nodes** that do not contain a link/pointer to child nodes. The node having at least a child node is called an **internal node**.\n",
    "\n",
    "**Edge** = It is the link between any two nodes.\n",
    "\n",
    "**Root** = It is the topmost node of a tree.\n",
    "\n",
    "**Height of a Node** = The height of a node is the number of edges from the node to the deepest leaf (ie. the longest path from the node to a leaf node).\n",
    "\n",
    "**Depth of a Node** = The depth of a node is the number of edges from the root to the node.\n",
    "\n",
    "**Height of a Tree** = The height of a Tree is the height of the root node or the depth of the deepest node.\n",
    "\n",
    "**Degree of a Node** = The degree of a node is the total number of branches of that node.\n",
    "\n",
    "**Forest** = A collection of disjoint trees is called a forest.\n",
    "### 2. Tree Traversal - inorder, preorder and postorder\n",
    "**Inorder traversal**\n",
    "1. First, visit all the nodes in the left subtree\n",
    "2. Then the root node\n",
    "3. Visit all the nodes in the right subtree\n",
    "**Preorder traversal**\n",
    "1. Visit root node\n",
    "2. Visit all the nodes in the left subtree\n",
    "3. Visit all the nodes in the right subtree\n",
    "**Postorder traversal**\n",
    "1. Visit all the nodes in the left subtree\n",
    "2. Visit all the nodes in the right subtree\n",
    "3. Visit the root node"
   ]
  },
  {
   "cell_type": "code",
   "execution_count": null,
   "id": "8553902c",
   "metadata": {},
   "outputs": [],
   "source": []
  }
 ],
 "metadata": {
  "kernelspec": {
   "display_name": "sumatera wildfire (pipenv)",
   "language": "python",
   "name": "sumatera-wildfire-classification"
  },
  "language_info": {
   "codemirror_mode": {
    "name": "ipython",
    "version": 3
   },
   "file_extension": ".py",
   "mimetype": "text/x-python",
   "name": "python",
   "nbconvert_exporter": "python",
   "pygments_lexer": "ipython3",
   "version": "3.8.0"
  }
 },
 "nbformat": 4,
 "nbformat_minor": 5
}
