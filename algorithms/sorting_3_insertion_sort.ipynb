{
 "cells": [
  {
   "cell_type": "markdown",
   "id": "62e46b4a",
   "metadata": {},
   "source": [
    "# Insertion Sort Algorithm\n",
    "Insertion sort is a sorting algorithm that places an unsorted element at its suitable place in each iteration.\n",
    "\n",
    "Insertion sort works similarly as we sort cards in our hand in a card game.\n",
    "\n",
    "We assume that the first card is already sorted then, we select an unsorted card. If the unsorted card is greater than the card in hand, it is placed on the right otherwise, to the left. In the same way, other unsorted cards are taken and put in their right place.\n",
    "\n",
    "A similar approach is used by insertion sort."
   ]
  },
  {
   "cell_type": "code",
   "execution_count": 12,
   "id": "1b745ac0",
   "metadata": {},
   "outputs": [
    {
     "name": "stdout",
     "output_type": "stream",
     "text": [
      "[2, 3, 6, 7, 8, 10, 11, 30, 100, 400, 1000]\n"
     ]
    }
   ],
   "source": [
    "# implementation\n",
    "array = [8, 7, 6, 3, 2, 10, 100, 11, 30, 1000, 400]\n",
    "len_arr = len(array)\n",
    "iteration = 0\n",
    "for i in range(1, len_arr):\n",
    "    key = array[i]\n",
    "    j = i-1\n",
    "    while j >= 0 and key < array[j]:\n",
    "        array[j + 1] = array[j]\n",
    "        j = j - 1\n",
    "    # Place key at after the element just smaller than it.\n",
    "    array[j + 1] = key\n",
    "\n",
    "print(array)"
   ]
  }
 ],
 "metadata": {
  "kernelspec": {
   "display_name": "sumatera wildfire (pipenv)",
   "language": "python",
   "name": "sumatera-wildfire-classification"
  },
  "language_info": {
   "codemirror_mode": {
    "name": "ipython",
    "version": 3
   },
   "file_extension": ".py",
   "mimetype": "text/x-python",
   "name": "python",
   "nbconvert_exporter": "python",
   "pygments_lexer": "ipython3",
   "version": "3.8.0"
  }
 },
 "nbformat": 4,
 "nbformat_minor": 5
}
