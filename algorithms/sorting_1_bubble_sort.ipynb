{
 "cells": [
  {
   "cell_type": "markdown",
   "id": "ce3c1f05",
   "metadata": {},
   "source": [
    "# Bubble Sort\n",
    "This algorithm is compares two adjacent element and swap them until the list is ordered.\n",
    "\n",
    "Just like a movement of bubbles in the water, each element (largest or lowest) move to end of the iteration"
   ]
  },
  {
   "cell_type": "code",
   "execution_count": 23,
   "id": "8fc5780e",
   "metadata": {},
   "outputs": [
    {
     "name": "stdout",
     "output_type": "stream",
     "text": [
      "[2, 3, 6, 7, 8, 10, 11, 30, 100, 400, 1000]\n",
      "iterations = {} 13\n"
     ]
    }
   ],
   "source": [
    "# implementation\n",
    "arr = [8, 7, 6, 3, 2, 10, 100, 11, 30, 1000, 400]\n",
    "len_arr = len(arr)\n",
    "iteration = 0\n",
    "for i in range(len_arr):\n",
    "    swapped=False # is used to check whether there's a swap operation\n",
    "    for j in range(0, len_arr-i-1):\n",
    "        if arr[j] > arr[j+1]:\n",
    "            temp = arr[j]\n",
    "            arr[j] = arr[j+1]\n",
    "            arr[j+1] = temp            \n",
    "            swapped = True\n",
    "            iteration += 1\n",
    "    if swapped == False: # if there's no swap operation that means the arr is sorted\n",
    "        break\n",
    "print(arr)\n",
    "print(\"iterations = {}\", iteration)"
   ]
  }
 ],
 "metadata": {
  "kernelspec": {
   "display_name": "sumatera wildfire (pipenv)",
   "language": "python",
   "name": "sumatera-wildfire-classification"
  },
  "language_info": {
   "codemirror_mode": {
    "name": "ipython",
    "version": 3
   },
   "file_extension": ".py",
   "mimetype": "text/x-python",
   "name": "python",
   "nbconvert_exporter": "python",
   "pygments_lexer": "ipython3",
   "version": "3.8.0"
  }
 },
 "nbformat": 4,
 "nbformat_minor": 5
}
