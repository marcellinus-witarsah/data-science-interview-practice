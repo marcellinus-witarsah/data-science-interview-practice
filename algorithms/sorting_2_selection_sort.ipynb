{
 "cells": [
  {
   "cell_type": "markdown",
   "id": "e4c47400",
   "metadata": {},
   "source": [
    "# Selection Sort Algorithm"
   ]
  },
  {
   "cell_type": "markdown",
   "id": "780fce53",
   "metadata": {},
   "source": [
    "Steps:\n",
    "1. Find the smallest element on the list and put it in the first element\n",
    "2. Repeat the process but start from index+1"
   ]
  },
  {
   "cell_type": "code",
   "execution_count": 9,
   "id": "6a62559b",
   "metadata": {},
   "outputs": [
    {
     "name": "stdout",
     "output_type": "stream",
     "text": [
      "[2, 3, 6, 7, 8, 10, 11, 30, 100, 400, 1000]\n",
      "iterations = {} 0\n"
     ]
    }
   ],
   "source": [
    "# implementation\n",
    "arr = [8, 7, 6, 3, 2, 10, 100, 11, 30, 1000, 400]\n",
    "len_arr = len(arr)\n",
    "iteration = 0\n",
    "for i in range(len_arr):\n",
    "    min_idx=i\n",
    "    for j in range(i+1, len_arr):\n",
    "        if arr[min_idx] > arr[j]:\n",
    "            min_idx = j\n",
    "    arr[i], arr[min_idx] = arr[min_idx], arr[i]\n",
    "    \n",
    "print(arr)\n",
    "print(\"iterations = {}\", iteration)"
   ]
  }
 ],
 "metadata": {
  "kernelspec": {
   "display_name": "sumatera wildfire (pipenv)",
   "language": "python",
   "name": "sumatera-wildfire-classification"
  },
  "language_info": {
   "codemirror_mode": {
    "name": "ipython",
    "version": 3
   },
   "file_extension": ".py",
   "mimetype": "text/x-python",
   "name": "python",
   "nbconvert_exporter": "python",
   "pygments_lexer": "ipython3",
   "version": "3.8.0"
  }
 },
 "nbformat": 4,
 "nbformat_minor": 5
}
